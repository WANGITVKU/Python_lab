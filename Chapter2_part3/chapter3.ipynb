{
 "cells": [
  {
   "cell_type": "markdown",
   "id": "34fa44ce",
   "metadata": {},
   "source": [
    "Bài 1: Xử lý ngoại lệ FileNotFoundError:\n",
    "Lỗi này xuất hiện khi mở 1 file mà không tồn tại. Không tồn tại có thể do file chưa được tạo hoặc đường dẫn đến file không đúng.\n",
    "Ví dụ:\n",
    "filename = 'alice.txt'\n",
    "with open(filename) as f_obj:\n",
    "     contents = f_obj.read()\n",
    "   \n",
    "\n",
    "\n",
    "Vì thế, cần xử lý ngoại lệ như sau:\n",
    "filename = 'alice.txt'\n",
    "try:\n",
    "    with open(filename) as f_obj:\n",
    "         contents = f_obj.read()\n",
    "except FileNotFoundError:\n",
    "     msg = \"File \" + filename + \"không tồn tại.\"\n",
    "     print(msg)\n"
   ]
  },
  {
   "cell_type": "code",
   "execution_count": 1,
   "id": "7c8a7969",
   "metadata": {},
   "outputs": [
    {
     "name": "stdout",
     "output_type": "stream",
     "text": [
      "Lỗi: Không tìm thấy file 'alice.txt'.\n"
     ]
    }
   ],
   "source": [
    "import os\n",
    "filename = 'alice.txt'\n",
    "\n",
    "try:\n",
    "    # Cố gắng mở và đọc file\n",
    "    with open(filename, encoding='utf-8') as f_obj:\n",
    "        contents = f_obj.read()\n",
    "        \n",
    "except FileNotFoundError:\n",
    "    # Xử lý nếu file không tồn tại\n",
    "    print(f\"Lỗi: Không tìm thấy file '{filename}'.\")\n",
    "    \n",
    "else:\n",
    "    # Khối 'else' này sẽ chạy nếu khối 'try' thành công (không có lỗi)\n",
    "    print(f\"Đã đọc file '{filename}' thành công.\")\n",
    "    # Bạn có thể xử lý nội dung file ở đây\n",
    "    # Ví dụ:\n",
    "    # num_words = len(contents.split())\n",
    "    # print(f\"File có khoảng {num_words} từ.\")"
   ]
  },
  {
   "cell_type": "markdown",
   "id": "af4a3578",
   "metadata": {},
   "source": [
    "Bài 2: về xử lý ngoại lệ FileNotFoundError khi thực hiện chương trình đếm số từ trong file text\n",
    "try:  \n",
    "\n",
    "    with open('alice.txt') as f_obj: # Mở file và tạo biến đối tượng f_obj  \n",
    "         contents = f_obj.read()     # Đọc và lưu nội dung file alice.txt    \n",
    "                                                                                # vào biến contents  \n",
    "except FileNotFoundError:              # Xử lý ngoại lệ không mở được file   \n",
    "   msg = \"File \" + filename + \" không tồn tại.\"  \n",
    "   print(msg)  \n",
    "else:                        #Trường hợp đọc file hợp lệ  \n",
    "   words = contents.split()  # Tách các từ trong biến contents lưu vào danh   \n",
    "                                                              #  sách words   \n",
    "   num_words = len(words)    # Đếm số từ lưu vào biến num_words  \n",
    "   print(\"File \" + filename + \" có\" + str(num_words) + \" từ.\")  \n"
   ]
  },
  {
   "cell_type": "code",
   "execution_count": 3,
   "id": "46058aa6",
   "metadata": {},
   "outputs": [
    {
     "name": "stdout",
     "output_type": "stream",
     "text": [
      "Lỗi: File 'alice.txt' không tồn tại.\n"
     ]
    }
   ],
   "source": [
    "import os\n",
    "# 1. Định nghĩa filename ở ngoài\n",
    "\n",
    "filename = 'alice.txt'\n",
    "\n",
    "try:\n",
    "    # 2. Sử dụng biến filename trong khối try\n",
    "    with open(filename, encoding='utf-8') as f_obj:\n",
    "        contents = f_obj.read()\n",
    "        \n",
    "except FileNotFoundError:\n",
    "    # 3. Biến filename giờ đã hợp lệ ở đây\n",
    "    msg = f\"Lỗi: File '{filename}' không tồn tại.\"\n",
    "    print(msg)\n",
    "    \n",
    "else:\n",
    "    # 4. Biến filename cũng hợp lệ ở đây\n",
    "    # Tách nội dung thành một danh sách các từ\n",
    "    words = contents.split()\n",
    "    # Đếm số lượng từ\n",
    "    num_words = len(words)\n",
    "    \n",
    "    print(f\"File '{filename}' có khoảng {num_words} từ.\")"
   ]
  },
  {
   "cell_type": "markdown",
   "id": "31c45363",
   "metadata": {},
   "source": [
    "Bài 3: về thực hiện chương trình đếm số từ trong nhiều file text  \n",
    "def count_words(filename):          # Định nghĩa hàm count_words()  \n",
    "    try:  \n",
    "        with open(filename) as f_obj:  \n",
    "             contents = f_obj.read()  \n",
    "    except FileNotFoundError:   \n",
    "        msg = \"File \" + filename + \" không tồn tại.\"  \n",
    "        print(msg)  \n",
    "    else:   \n",
    "        words = contents.split()   \n",
    "        num_words = len(words)\n",
    "        print(\"File \" + filename + \" có\" + str(num_words) + \" từ.\")  \n",
    "filenames = [‘f1.txt', ‘f2.txt', ‘f3.txt']  \n",
    "for filename in filenames:  \n",
    "     count_words(filename)                     #  Gọi hàm count_words()  \n"
   ]
  },
  {
   "cell_type": "code",
   "execution_count": 4,
   "id": "30152409",
   "metadata": {},
   "outputs": [
    {
     "name": "stdout",
     "output_type": "stream",
     "text": [
      "--- Bắt đầu đếm từ ---\n",
      "Lỗi: Không tìm thấy file 'f1.txt'.\n",
      "Lỗi: Không tìm thấy file 'alice.txt'.\n",
      "Lỗi: Không tìm thấy file 'f2.txt'.\n",
      "Lỗi: Không tìm thấy file 'f3.txt'.\n",
      "--- Hoàn thành ---\n"
     ]
    }
   ],
   "source": [
    "import os\n",
    "def count_words(filename):\n",
    "    \"\"\"Đếm số từ xấp xỉ trong một file.\"\"\"\n",
    "    try:\n",
    "        # Thêm encoding='utf-8' để đọc tiếng Việt\n",
    "        with open(filename, encoding='utf-8') as f_obj:\n",
    "            contents = f_obj.read()\n",
    "            \n",
    "    except FileNotFoundError:\n",
    "        # In thông báo lỗi\n",
    "        print(f\"Lỗi: Không tìm thấy file '{filename}'.\")\n",
    "        \n",
    "    else:\n",
    "        # Đếm từ nếu file được đọc thành công\n",
    "        words = contents.split()\n",
    "        num_words = len(words)\n",
    "        print(f\"File '{filename}' có khoảng {num_words} từ.\")\n",
    "\n",
    "# --- Phần chương trình chính ---\n",
    "\n",
    "# Danh sách các file cần đếm\n",
    "filenames = ['f1.txt', 'alice.txt', 'f2.txt', 'f3.txt']\n",
    "\n",
    "# Gọi hàm cho từng file\n",
    "print(\"--- Bắt đầu đếm từ ---\")\n",
    "for file in filenames:\n",
    "    count_words(file)\n",
    "\n",
    "print(\"--- Hoàn thành ---\")"
   ]
  },
  {
   "cell_type": "markdown",
   "id": "215b93d3",
   "metadata": {},
   "source": [
    "Bài 4. Tệp nén là một loại lưu trữ chứa một hoặc nhiều tệp đã bị giảm kích thước. Nén tập tin trong các hệ điều hành hiện đại thường khá đơn giản. Viết chương trình nén và giải nén tệp bằng Python\n"
   ]
  },
  {
   "cell_type": "code",
   "execution_count": null,
   "id": "1386104f",
   "metadata": {},
   "outputs": [
    {
     "name": "stdout",
     "output_type": "stream",
     "text": [
      "Đang tạo file 'archive.zip'...\n",
      "Lỗi: Một trong các file nguồn không tồn tại.\n"
     ]
    }
   ],
   "source": [
    "import zipfile\n",
    "import os\n",
    "\n",
    "filename1 = 'chaper3.ipynb'\n",
    "filename2 = 'Kiem_tra.py'\n",
    "\n",
    "\n",
    "zip_filename = 'archive.zip'\n",
    "\n",
    "print(f\"Đang tạo file '{zip_filename}'...\")\n",
    "\n",
    "# Sử dụng 'with' để đảm bảo file zip được đóng lại đúng cách\n",
    "try:\n",
    "    with zipfile.ZipFile(zip_filename, 'w') as zipf:\n",
    "        # Ghi từng file vào file zip\n",
    "        zipf.write(filename1)\n",
    "        zipf.write(filename2)\n",
    "        \n",
    "    print(f\"Đã tạo file nén '{zip_filename}' thành công!\")\n",
    "\n",
    "except FileNotFoundError:\n",
    "    print(\"Lỗi: Một trong các file nguồn không tồn tại.\")\n",
    "except Exception as e:\n",
    "    print(f\"Đã xảy ra lỗi: {e}\")"
   ]
  }
 ],
 "metadata": {
  "kernelspec": {
   "display_name": "Python 3",
   "language": "python",
   "name": "python3"
  },
  "language_info": {
   "codemirror_mode": {
    "name": "ipython",
    "version": 3
   },
   "file_extension": ".py",
   "mimetype": "text/x-python",
   "name": "python",
   "nbconvert_exporter": "python",
   "pygments_lexer": "ipython3",
   "version": "3.13.5"
  }
 },
 "nbformat": 4,
 "nbformat_minor": 5
}
