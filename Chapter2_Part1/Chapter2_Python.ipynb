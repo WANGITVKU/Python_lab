{
 "cells": [
  {
   "cell_type": "markdown",
   "id": "35935ade-a37e-4128-8499-a9f262699fb4",
   "metadata": {},
   "source": [
    "\n",
    "### Bài 1\n",
    "- Xuất ra màn hình chuỗi ký tự hoa\n",
    "- Xuất ra màn hình chuỗi ký tự có ký tự đầu là ký tự hoa\n",
    "- Xuất ra màn hình chuỗi ký tự thường"
   ]
  },
  {
   "cell_type": "code",
   "execution_count": 8,
   "id": "9d2f01df-e2a9-4b2c-8cc6-fc4b9af2cdce",
   "metadata": {},
   "outputs": [
    {
     "name": "stdout",
     "output_type": "stream",
     "text": [
      "A Upper String is: 4\n",
      "A Lower String is : 4\n",
      "A Title String is : 4\n"
     ]
    }
   ],
   "source": [
    "st = input(\"Enter your string:\")\n",
    "st_upper = st.upper()\n",
    "st_lower = st.lower()\n",
    "st_title = st.title()\n",
    "\n",
    "print(\"A Upper String is: \" + st_upper)\n",
    "print(\"A Lower String is : \" + st_lower)\n",
    "print(\"A Title String is : \" + st_title)"
   ]
  },
  {
   "cell_type": "markdown",
   "id": "98e97b62-9325-4274-80fe-98c384875cbc",
   "metadata": {},
   "source": [
    "\n",
    "Bài 2. Cho chuỗi biểu diễn địa chỉ email:   \" minhnhutvh@gmail.com\"  \n",
    "\n",
    "Rút trích và hiển thị chuỗi \"gmail.com\" (Đây chính là  tên Host)\n"
   ]
  },
  {
   "cell_type": "code",
   "execution_count": 9,
   "id": "2208cd36-d314-4927-9fb5-55bc689b501e",
   "metadata": {},
   "outputs": [
    {
     "name": "stdout",
     "output_type": "stream",
     "text": [
      "gmail.com\n"
     ]
    }
   ],
   "source": [
    "data = \"minhnhutvh@gmail.com\"\n",
    "position = data.find(\"@\")               \n",
    "host = data[position +1 :]\n",
    "print(host)\n"
   ]
  },
  {
   "cell_type": "markdown",
   "id": "2411f1dd-bada-4dc7-90be-d5b14be8685d",
   "metadata": {},
   "source": [
    "\n",
    "Bài 3. Cho chuỗi biểu diễn:  \n",
    "        ‘minhnhutvh@gmai.com Sat Jan 5 09:14:16’  \n",
    "Rút trích và hiển thị chuỗi “gmail.com”\n"
   ]
  },
  {
   "cell_type": "code",
   "execution_count": 10,
   "id": "c60f43e5-e0ba-4f2f-be62-a3df3ed218a8",
   "metadata": {},
   "outputs": [
    {
     "name": "stdout",
     "output_type": "stream",
     "text": [
      "gmail.com\n"
     ]
    }
   ],
   "source": [
    "data = \"minhnhutvh@gmail.com Sat Jan 5 09:14:16\"\n",
    "Start_position = data.find(\"@\")                #  10\n",
    "End_position = data.find(\" \", Start_position)  #  26\n",
    "host = data[Start_position +1 : End_position]\n",
    "print(host)\n"
   ]
  },
  {
   "cell_type": "markdown",
   "id": "4a1b2728-50bc-488b-9e8d-db3b27daf173",
   "metadata": {},
   "source": [
    "Bài 4: Viết một chương trình thay thế một từ trong chuỗi. Yêu cầu:  \n",
    "Nhập vào một chuỗi \n",
    "Nhập vào một từ cần thay thế và một từ thay thế.  \n",
    "Sau đó, hiển thị kết quả ra màn hình\n"
   ]
  },
  {
   "cell_type": "code",
   "execution_count": 11,
   "id": "d7e501cf-58a4-4d4d-bc28-6c8d4b93ce7a",
   "metadata": {},
   "outputs": [
    {
     "name": "stdout",
     "output_type": "stream",
     "text": [
      "5\n"
     ]
    }
   ],
   "source": [
    "st1 = input(\"Enter your string: \")\n",
    "st2 = input(\" Enter the word that needs to replace: \")\n",
    "st3 = input(\" Enter the word after being replaced: \")\n",
    "\n",
    "st1 = st1.replace(st2,st3)\n",
    "print(st1)\n"
   ]
  },
  {
   "cell_type": "markdown",
   "id": "feea5f26",
   "metadata": {},
   "source": [
    "Bài 5: Viết một chương trình nhập vào 1 chuỗi. Sau đó, xuất ra màn hình:   \n",
    "5 ký tự cuối cùng; 5 ký tự đầu tiên.   \n",
    "4 chuỗi trên một dòng cách 1 khoảng trắng.  \n",
    "4 chuỗi trên 4 dòn\n"
   ]
  },
  {
   "cell_type": "code",
   "execution_count": 12,
   "id": "6ef6419d",
   "metadata": {},
   "outputs": [
    {
     "name": "stdout",
     "output_type": "stream",
     "text": [
      "You entered: 1\n",
      "First five characters are: 1\n",
      "Last five characters are: 1\n",
      "Four strings of one line are: 1 1 1 1 \n",
      "Four strings of four line are:\n",
      "1 1 1 1 \n"
     ]
    }
   ],
   "source": [
    "st = input(\"Enter your string: \")\n",
    "# Hiển thị lại chuỗi vừa nhập\n",
    "print(\"You entered: \" + st)\n",
    "\n",
    "First_five_characters = st[:5]\n",
    "Last_five_characters = st[len(st)-5:]\n",
    "Four_Str_1_line = 4 * (st + \" \")\n",
    "Four_Str_4_line = 4 * (st + \"\\n\")\n",
    "\n",
    "print(\"First five characters are: \" + First_five_characters)\n",
    "print(\"Last five characters are: \" + Last_five_characters)\n",
    "print(\"Four strings of one line are: \" + Four_Str_1_line)\n",
    "print(\"Four strings of four line are:\\n\" + Four_Str_1_line)"
   ]
  },
  {
   "cell_type": "markdown",
   "id": "6a95408a",
   "metadata": {},
   "source": [
    "Bài 6: Viết chương trình tính thể tích hình trụ V = πr2h với r là bán kính của mặt đáy, h là chiều cao của hình trụ, và π là hằng số pi. Với r và h nhập vào từ bàn phím."
   ]
  },
  {
   "cell_type": "code",
   "execution_count": 13,
   "id": "17101e68",
   "metadata": {},
   "outputs": [
    {
     "name": "stdout",
     "output_type": "stream",
     "text": [
      " Bán kính r bạn đã nhập là: 1.0\n",
      " Chiều cao h bạn đã nhập là: 1.0\n",
      "Thể tích hình trụ là: 3.141592653589793\n"
     ]
    }
   ],
   "source": [
    "import math\n",
    "\n",
    "# Nhập bán kính và chiều cao từ bàn phím\n",
    "r = float(input(\"Nhập bán kính r: \"))\n",
    "h = float(input(\"Nhập chiều cao h: \"))\n",
    "\n",
    "# In lại input đã nhập\n",
    "print(\" Bán kính r bạn đã nhập là:\", r)\n",
    "print(\" Chiều cao h bạn đã nhập là:\", h)\n",
    "\n",
    "# Tính thể tích hình trụ\n",
    "V = math.pi * (r ** 2) * h\n",
    "\n",
    "# Hiển thị kết quả\n",
    "print(\"Thể tích hình trụ là:\", V)\n"
   ]
  },
  {
   "cell_type": "markdown",
   "id": "88f88c8a",
   "metadata": {},
   "source": [
    "Bài 7: Viết chương trình tính diện tích tam giác theo công thức. Yêu cầu nhập vào 3 cạnh và các góc A,B và C (radian)\n"
   ]
  },
  {
   "cell_type": "code",
   "execution_count": 14,
   "id": "a046314c",
   "metadata": {},
   "outputs": [
    {
     "name": "stdout",
     "output_type": "stream",
     "text": [
      " Cạnh a: 1.0\n",
      " Cạnh b: 1.0\n",
      " Góc C (rad): 1.0\n",
      "Diện tích tam giác là: 0.42\n"
     ]
    }
   ],
   "source": [
    "import math\n",
    "\n",
    "a = float(input(\"Nhập cạnh a: \"))\n",
    "b = float(input(\"Nhập cạnh b: \"))\n",
    "C = float(input(\"Nhập góc C (theo radian): \"))\n",
    "\n",
    "print(\" Cạnh a:\", a)\n",
    "print(\" Cạnh b:\", b)\n",
    "print(\" Góc C (rad):\", C)\n",
    "\n",
    "S = 0.5 * a * b * math.sin(C)\n",
    "print(\"Diện tích tam giác là:\", round(S, 2))\n"
   ]
  },
  {
   "cell_type": "markdown",
   "id": "7d397fa6",
   "metadata": {},
   "source": [
    "Bài 8: Viết chương trình tính diện tích tam giác đều theo định lý Heron. Yêu cầu nhập vào cạnh tam giác đều."
   ]
  },
  {
   "cell_type": "code",
   "execution_count": 15,
   "id": "93fbc9f8",
   "metadata": {},
   "outputs": [
    {
     "name": "stdout",
     "output_type": "stream",
     "text": [
      "Cạnh tam giác đều a: 6.0\n",
      "Diện tích tam giác đều là: 15.59\n"
     ]
    }
   ],
   "source": [
    "import math\n",
    "\n",
    "a = float(input(\"Nhập cạnh tam giác đều a: \"))\n",
    "\n",
    "print(\"Cạnh tam giác đều a:\", a)\n",
    "\n",
    "S = (a ** 2) * math.sqrt(3) / 4\n",
    "print(\"Diện tích tam giác đều là:\", round(S, 2))\n"
   ]
  },
  {
   "cell_type": "markdown",
   "id": "90c19318",
   "metadata": {},
   "source": [
    "Bài 9: Chạy chương trình Bài 7, nhập giá trị cho trường hợp tam giác đều (lưu ý: giá trị cạnh tam giác = giá trị cạnh tam giác Bài 8). Đánh giá kết quả khi chạy chương trình Bài 7 và Bài 8\n"
   ]
  },
  {
   "cell_type": "code",
   "execution_count": 17,
   "id": "c6d6f227",
   "metadata": {},
   "outputs": [
    {
     "name": "stdout",
     "output_type": "stream",
     "text": [
      "Cạnh tam giác đều a: 2.0\n",
      "Diện tích tam giác theo công thức sin (Bài 7): 1.73\n",
      "Diện tích tam giác đều (Bài 8): 1.73\n",
      " Hai kết quả bằng nhau (đúng).\n"
     ]
    }
   ],
   "source": [
    "import math\n",
    "\n",
    "# Nhập cạnh tam giác đều\n",
    "a = float(input(\"Nhập cạnh tam giác đều a: \"))\n",
    "\n",
    "print(\"Cạnh tam giác đều a:\", a)\n",
    "\n",
    "# --- Cách 1: Công thức sin (Bài 7) ---\n",
    "# Tam giác đều có góc = 60° = π/3 rad\n",
    "S_sin = 0.5 * a * a * math.sin(math.pi / 3)\n",
    "\n",
    "# --- Cách 2: Công thức tam giác đều (Bài 8) ---\n",
    "S_equilateral = (a ** 2) * math.sqrt(3) / 4\n",
    "\n",
    "# Hiển thị kết quả\n",
    "print(\"Diện tích tam giác theo công thức sin (Bài 7):\", round(S_sin, 2))\n",
    "print(\"Diện tích tam giác đều (Bài 8):\", round(S_equilateral, 2))\n",
    "\n",
    "# So sánh kết quả\n",
    "if round(S_sin, 5) == round(S_equilateral, 5):\n",
    "    print(\" Hai kết quả bằng nhau (đúng).\")\n",
    "else:\n",
    "    print(\" Hai kết quả KHÁC nhau (cần kiểm tra lại).\")\n"
   ]
  },
  {
   "cell_type": "markdown",
   "id": "a7aeabcc",
   "metadata": {},
   "source": [
    "Bài 10: Viết chương trình yêu cầu người dùng nhập chiều rộng và chiều dài của một căn phòng. Chiều dài và chiều rộng sẽ hiển thị kiểu số dấu phẩy động. Hiển thị diện tích căn phòng. \n"
   ]
  },
  {
   "cell_type": "code",
   "execution_count": null,
   "id": "6e4eddd2",
   "metadata": {},
   "outputs": [
    {
     "name": "stdout",
     "output_type": "stream",
     "text": [
      " Chiều dài: 30.0 m\n",
      " Chiều rộng: 40.0 m\n",
      "Diện tích căn phòng là: 1200.0 m²\n"
     ]
    }
   ],
   "source": [
    "# Bài 10: Tính diện tích căn phòng\n",
    "length = float(input(\"Nhập chiều dài của căn phòng (m): \"))\n",
    "width = float(input(\"Nhập chiều rộng của căn phòng (m): \"))\n",
    "\n",
    "area = length * width\n",
    "\n",
    "print(\"Chiều dài:\", length, \"m\")\n",
    "print(\"Chiều rộng:\", width, \"m\")\n",
    "print(\"Diện tích căn phòng là:\", round(area, 2), \"m²\")\n"
   ]
  },
  {
   "cell_type": "markdown",
   "id": "fc7fc187",
   "metadata": {},
   "source": [
    "Bài 11: Viết chương trình đọc chiều dài và chiều rộng của một cánh đồng từ người dùng. Hiển thị diện tích của cánh đồng theo theo đơn vị tính là Mẫu Anh. Gợi ý: Một Mẫu Anh bằng 43.560 met vuông."
   ]
  },
  {
   "cell_type": "code",
   "execution_count": 19,
   "id": "a05a6e98",
   "metadata": {},
   "outputs": [
    {
     "name": "stdout",
     "output_type": "stream",
     "text": [
      " Chiều dài: 300.0 m\n",
      " Chiều rộng: 400.0 m\n",
      "Diện tích cánh đồng: 120000.0 m²\n",
      "Tương đương: 29.6526 mẫu Anh\n"
     ]
    }
   ],
   "source": [
    "# Bài 11: Diện tích cánh đồng theo mẫu Anh\n",
    "length = float(input(\"Nhập chiều dài cánh đồng (m): \"))\n",
    "width = float(input(\"Nhập chiều rộng cánh đồng (m): \"))\n",
    "\n",
    "area_m2 = length * width\n",
    "# 1 mẫu Anh = 43,560 ft² = 4046.856 m²\n",
    "area_acre = area_m2 / 4046.856\n",
    "\n",
    "print(\" Chiều dài:\", length, \"m\")\n",
    "print(\" Chiều rộng:\", width, \"m\")\n",
    "print(\"Diện tích cánh đồng:\", round(area_m2, 2), \"m²\")\n",
    "print(\"Tương đương:\", round(area_acre, 4), \"mẫu Anh\")\n"
   ]
  },
  {
   "cell_type": "markdown",
   "id": "dd4a8627",
   "metadata": {},
   "source": [
    "Bài 12: Viết chương trình nhập chi phí của một bữa ăn tại nhà hàng từ người dùng. Chương trình sẽ tính thuế và tiền boa cho bữa ăn. Trong đó, tiền boa là 18% số tiền bữa ăn (không có thuế); tiền thuế là 5% số tiền bữa ăn. Đầu ra của chương trình là tổng tiền, gồm: thuế, số tiền boa và tiền bữa ăn. Định dạng đầu ra sao cho tất cả các giá trị được hiển thị bằng hai con số thập phân"
   ]
  },
  {
   "cell_type": "code",
   "execution_count": 20,
   "id": "8f2d79f8",
   "metadata": {},
   "outputs": [
    {
     "name": "stdout",
     "output_type": "stream",
     "text": [
      "Chi phí bữa ăn: 10.0 VNĐ\n",
      " Tiền boa (18%): 1.8 VNĐ\n",
      " Tiền thuế (5%): 0.5 VNĐ\n",
      "Tổng cộng: 12.3 VNĐ\n"
     ]
    }
   ],
   "source": [
    "meal_cost = float(input(\"Nhập chi phí bữa ăn (VNĐ): \"))\n",
    "tip = meal_cost * 0.18\n",
    "tax = meal_cost * 0.05\n",
    "total = meal_cost + tip + tax\n",
    "\n",
    "print(\"Chi phí bữa ăn:\", round(meal_cost, 2), \"VNĐ\")\n",
    "print(\" Tiền boa (18%):\", round(tip, 2), \"VNĐ\")\n",
    "print(\" Tiền thuế (5%):\", round(tax, 2), \"VNĐ\")\n",
    "print(\"Tổng cộng:\", round(total, 2), \"VNĐ\")\n"
   ]
  },
  {
   "cell_type": "markdown",
   "id": "58e718b5",
   "metadata": {},
   "source": [
    "Bài 13: Viết chương trình đọc một số nguyên dương n từ người dùng và sau đó hiển thị tổng của tất cả các số nguyên từ 1 đến n. Tổng của n số nguyên dương đầu tiên có thể được tính bằng công thức:\n"
   ]
  },
  {
   "cell_type": "code",
   "execution_count": 23,
   "id": "d11651c7",
   "metadata": {},
   "outputs": [
    {
     "name": "stdout",
     "output_type": "stream",
     "text": [
      " n = 9\n",
      "Tổng các số nguyên từ 1 đến 9 là: 45\n"
     ]
    }
   ],
   "source": [
    "n = int(input(\"Nhập số nguyên dương n: \"))\n",
    "\n",
    "sum_n = n * (n + 1) // 2  # công thức tính nhanh\n",
    "\n",
    "print(\" n =\", n)\n",
    "print(\"Tổng các số nguyên từ 1 đến\", n, \"là:\", sum_n)\n"
   ]
  },
  {
   "cell_type": "markdown",
   "id": "2144d6eb",
   "metadata": {},
   "source": [
    "Bài 14"
   ]
  },
  {
   "cell_type": "code",
   "execution_count": 24,
   "id": "c1dfcba2",
   "metadata": {},
   "outputs": [
    {
     "name": "stdout",
     "output_type": "stream",
     "text": [
      " a = 3\n",
      " b = 67\n",
      "Tổng a + b = 70\n",
      "Hiệu a - b = -64\n",
      "Tích a * b = 201\n",
      "Thương a / b = 0.04477611940298507\n",
      "Phần dư a % b = 3\n",
      "log10(a) = 0.47712125471966244\n",
      "a^b = 92709463147897837085761925410587\n"
     ]
    }
   ],
   "source": [
    "import math\n",
    "\n",
    "# Nhập dữ liệu\n",
    "a = int(input(\"Nhập số nguyên a: \"))\n",
    "b = int(input(\"Nhập số nguyên b: \"))\n",
    "\n",
    "# Hiển thị input\n",
    "print(\" a =\", a)\n",
    "print(\" b =\", b)\n",
    "\n",
    "# Tính toán\n",
    "tong = a + b\n",
    "hieu = a - b\n",
    "tich = a * b\n",
    "thuong = a / b if b != 0 else \"Không chia được cho 0\"\n",
    "phan_du = a % b if b != 0 else \"Không chia được cho 0\"\n",
    "log_a = math.log10(a) if a > 0 else \"Không tính được log10(a ≤ 0)\"\n",
    "mu = a ** b\n",
    "\n",
    "# Xuất kết quả\n",
    "print(\"Tổng a + b =\", tong)\n",
    "print(\"Hiệu a - b =\", hieu)\n",
    "print(\"Tích a * b =\", tich)\n",
    "print(\"Thương a / b =\", thuong)\n",
    "print(\"Phần dư a % b =\", phan_du)\n",
    "print(\"log10(a) =\", log_a)\n",
    "print(\"a^b =\", mu)\n"
   ]
  }
 ],
 "metadata": {
  "kernelspec": {
   "display_name": "Python 3",
   "language": "python",
   "name": "python3"
  },
  "language_info": {
   "codemirror_mode": {
    "name": "ipython",
    "version": 3
   },
   "file_extension": ".py",
   "mimetype": "text/x-python",
   "name": "python",
   "nbconvert_exporter": "python",
   "pygments_lexer": "ipython3",
   "version": "3.13.5"
  }
 },
 "nbformat": 4,
 "nbformat_minor": 5
}
